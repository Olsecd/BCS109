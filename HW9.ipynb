{
  "nbformat": 4,
  "nbformat_minor": 0,
  "metadata": {
    "colab": {
      "name": "HW9.ipynb",
      "provenance": [],
      "collapsed_sections": []
    },
    "kernelspec": {
      "name": "python3",
      "display_name": "Python 3"
    }
  },
  "cells": [
    {
      "cell_type": "markdown",
      "metadata": {
        "id": "zvlHchOBMKcQ"
      },
      "source": [
        "HW9"
      ]
    },
    {
      "cell_type": "markdown",
      "metadata": {
        "id": "YxTprXyiZ0O1"
      },
      "source": [
        "Question 1"
      ]
    },
    {
      "cell_type": "code",
      "metadata": {
        "id": "N5GzkXCxMHsZ",
        "outputId": "6a76b552-329c-4664-dc20-28212c58c0cd",
        "colab": {
          "base_uri": "https://localhost:8080/"
        }
      },
      "source": [
        "def theMax(numbers):\n",
        "  max = -1\n",
        "  for k in numbers:\n",
        "    if max < k:\n",
        "      max = k\n",
        "  return max\n",
        "\n",
        "def theMin(numbers):\n",
        "  min = 1000000000\n",
        "  for k in numbers:\n",
        "    if min > k:\n",
        "      min = k\n",
        "  return min\n",
        "\n",
        "def theAverage(numbers):\n",
        "  total = 0\n",
        "  for k in numbers:\n",
        "    total += k\n",
        "  return total/ len(numbers)\n",
        "\n",
        "def theSD(numbers):\n",
        "  total = 0\n",
        "  avg = theAverage(numbers)\n",
        "  for k in numbers:\n",
        "    total += pow(k-avg,2)\n",
        "  return pow(total/(len(numbers)-1),.5)\n",
        "\n",
        "def theGeoMean(numbers):\n",
        "  total = 1\n",
        "  for k in numbers:\n",
        "    total *= k\n",
        "  return pow(total, 1/len(numbers))\n",
        "\n",
        "theList = [19, 32, 34,33, 75, 91, 9, 4, 18, 38]\n",
        "print(theMax(theList))\n",
        "print(theMin(theList))\n",
        "print(theAverage(theList))\n",
        "print(theSD(theList))\n",
        "print(theGeoMean(theList))"
      ],
      "execution_count": 3,
      "outputs": [
        {
          "output_type": "stream",
          "text": [
            "91\n",
            "4\n",
            "35.3\n",
            "27.76908752952142\n",
            "25.464536135860143\n"
          ],
          "name": "stdout"
        }
      ]
    },
    {
      "cell_type": "markdown",
      "metadata": {
        "id": "k4s-m_ytZ3C8"
      },
      "source": [
        "Question 2"
      ]
    },
    {
      "cell_type": "code",
      "metadata": {
        "id": "Zr4nsVeMMUAN",
        "outputId": "482933cf-27ea-4427-dfb2-f3a5c5d881b4",
        "colab": {
          "base_uri": "https://localhost:8080/"
        }
      },
      "source": [
        "import math\n",
        "\n",
        "def chooseShape():\n",
        "  val = int(input(\"Press 1 for triangle, 2 for circle, 3 for square\\n\"))\n",
        "  if val == 1:\n",
        "    triangleArea()\n",
        "  elif val == 2:\n",
        "    circleArea()\n",
        "  elif val == 3:\n",
        "    squareArea()\n",
        "  else:\n",
        "    print(\"Invalid choice\")\n",
        "\n",
        "def triangleArea():\n",
        "  base = float(input('What is the base?\\n'))\n",
        "  height = float(input('What is the height?\\n'))\n",
        "  print(f'The area is {base*height/2}.')\n",
        "\n",
        "def circleArea():\n",
        "  radius = float(input('What is the radius?\\n'))\n",
        "  print(f'The area of the circle is {radius*radius*math.pi}')\n",
        "\n",
        "def squareArea():\n",
        "  side = float(input('What is the side?\\n'))\n",
        "  print(f'The area of the square is {side**2}')\n",
        "\n",
        "chooseShape();"
      ],
      "execution_count": 16,
      "outputs": [
        {
          "output_type": "stream",
          "text": [
            "Press 1 for triangle, 2 for circle, 3 for square\n",
            "3\n",
            "What is the side?\n",
            "5\n",
            "The area of the square is 25.0\n"
          ],
          "name": "stdout"
        }
      ]
    },
    {
      "cell_type": "markdown",
      "metadata": {
        "id": "Prk3-41OZ4l5"
      },
      "source": [
        "Question 3"
      ]
    },
    {
      "cell_type": "code",
      "metadata": {
        "id": "mBGMvmOoMYaS",
        "outputId": "54f883a9-5cf7-4920-eae3-0202e437b227",
        "colab": {
          "base_uri": "https://localhost:8080/"
        }
      },
      "source": [
        "def doubleIt(x):\n",
        "  choice = int(input('Say 1 to double the numbers and 2 to double the values\\n'))\n",
        "\n",
        "  if choice == 1:\n",
        "    return x*2\n",
        "    \n",
        "  elif choice == 2:\n",
        "    for k in range(len(x)):\n",
        "      x[k] = x[k]*2\n",
        "    return x\n",
        "\n",
        "\n",
        "val = [1, 2, 3]\n",
        "other = doubleIt(val)\n",
        "\n",
        "print(other)"
      ],
      "execution_count": 19,
      "outputs": [
        {
          "output_type": "stream",
          "text": [
            "Say 1 to double the numbers and 2 to double the values\n",
            "2\n",
            "[2, 4, 6]\n"
          ],
          "name": "stdout"
        }
      ]
    },
    {
      "cell_type": "markdown",
      "metadata": {
        "id": "EM-GZXlwZ5xj"
      },
      "source": [
        "Question 4"
      ]
    },
    {
      "cell_type": "code",
      "metadata": {
        "id": "QkosWVIOMghq",
        "outputId": "d88686c9-e57e-49b8-ec07-958689cd2248",
        "colab": {
          "base_uri": "https://localhost:8080/"
        }
      },
      "source": [
        "def putTogether(x,y):\n",
        "  other = []\n",
        "  for i in range(len(x)):\n",
        "    other.append(x[i] *10 + y[i])\n",
        "  return other\n",
        "\n",
        "x = [1, 2, 3]\n",
        "y = [7, 8, 9]\n",
        "print(putTogether(x,y))"
      ],
      "execution_count": 20,
      "outputs": [
        {
          "output_type": "stream",
          "text": [
            "[17, 28, 39]\n"
          ],
          "name": "stdout"
        }
      ]
    },
    {
      "cell_type": "markdown",
      "metadata": {
        "id": "9yZHnJaYZ94d"
      },
      "source": [
        "Question 5"
      ]
    },
    {
      "cell_type": "code",
      "metadata": {
        "id": "TfZ-6gEVaAJ_",
        "outputId": "54d2d02c-8032-4b96-a1fa-6fa54d36b948",
        "colab": {
          "base_uri": "https://localhost:8080/"
        }
      },
      "source": [
        "def Prime():\n",
        "  upper = 100\n",
        "\n",
        "  print(\"Prime numbers between 1 and\", upper, \"are:\")\n",
        "\n",
        "  for num in range(1, upper + 1):\n",
        "   # all prime numbers are greater than 1\n",
        "   if num > 1:\n",
        "       for i in range(2, num):\n",
        "           if (num % i) == 0:\n",
        "               break\n",
        "       else:\n",
        "           print(num)\n",
        "Prime()"
      ],
      "execution_count": 24,
      "outputs": [
        {
          "output_type": "stream",
          "text": [
            "Prime numbers between 1 and 100 are:\n",
            "2\n",
            "3\n",
            "5\n",
            "7\n",
            "11\n",
            "13\n",
            "17\n",
            "19\n",
            "23\n",
            "29\n",
            "31\n",
            "37\n",
            "41\n",
            "43\n",
            "47\n",
            "53\n",
            "59\n",
            "61\n",
            "67\n",
            "71\n",
            "73\n",
            "79\n",
            "83\n",
            "89\n",
            "97\n"
          ],
          "name": "stdout"
        }
      ]
    },
    {
      "cell_type": "markdown",
      "metadata": {
        "id": "975qdZ0EcC9U"
      },
      "source": [
        "Question 6"
      ]
    },
    {
      "cell_type": "code",
      "metadata": {
        "id": "71xhOztQcLUP",
        "outputId": "e8e1aced-b3bf-4421-d99a-a150608fa398",
        "colab": {
          "base_uri": "https://localhost:8080/"
        }
      },
      "source": [
        "def calculation(first, second):\n",
        "  add = first + second\n",
        "  sub = first - second \n",
        "  return add, sub\n",
        "\n",
        "print(calculation(10,5))"
      ],
      "execution_count": 25,
      "outputs": [
        {
          "output_type": "stream",
          "text": [
            "(15, 5)\n"
          ],
          "name": "stdout"
        }
      ]
    },
    {
      "cell_type": "markdown",
      "metadata": {
        "id": "GkEeIVEBcLwN"
      },
      "source": [
        "Question 7"
      ]
    },
    {
      "cell_type": "code",
      "metadata": {
        "id": "Y32_GANdcNrL",
        "outputId": "90ce8057-1d16-4faa-d944-3abb1d055439",
        "colab": {
          "base_uri": "https://localhost:8080/"
        }
      },
      "source": [
        "def multiples():\n",
        "  result = 0\n",
        "  for i in range(1,1000):\n",
        "    if (i % 3 == 0 or i % 5 == 0):\n",
        "        result = result + i\n",
        "  print(result)\n",
        "\n",
        "multiples()"
      ],
      "execution_count": 31,
      "outputs": [
        {
          "output_type": "stream",
          "text": [
            "233168\n"
          ],
          "name": "stdout"
        }
      ]
    },
    {
      "cell_type": "markdown",
      "metadata": {
        "id": "udcsY3qsZ61G"
      },
      "source": [
        "Question 8"
      ]
    },
    {
      "cell_type": "code",
      "metadata": {
        "id": "ECz1Xo_fMil6",
        "outputId": "6f3d35b8-12ce-4e11-8f4a-47b9852261f0",
        "colab": {
          "base_uri": "https://localhost:8080/"
        }
      },
      "source": [
        "#sum of even valued fibonacci numbers\n",
        "def fib():\n",
        " a = 1\n",
        " b = 1\n",
        " total = 0\n",
        "\n",
        " for k in range(1000):\n",
        "  c = a +b \n",
        "  if c >= 1000:\n",
        "     break\n",
        "  elif (c % 2 == 0):\n",
        "    total += c\n",
        "  a = b\n",
        "  b = c\n",
        " \n",
        " return total\n",
        "\n",
        "print(fib())"
      ],
      "execution_count": 21,
      "outputs": [
        {
          "output_type": "stream",
          "text": [
            "798\n"
          ],
          "name": "stdout"
        }
      ]
    }
  ]
}