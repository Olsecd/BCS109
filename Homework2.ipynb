{
  "nbformat": 4,
  "nbformat_minor": 0,
  "metadata": {
    "colab": {
      "name": "Homework2.ipynb",
      "provenance": [],
      "collapsed_sections": []
    },
    "kernelspec": {
      "name": "python3",
      "display_name": "Python 3"
    }
  },
  "cells": [
    {
      "cell_type": "markdown",
      "metadata": {
        "id": "IdQuaAnBshb_",
        "colab_type": "text"
      },
      "source": [
        "##About me\n",
        "\n",
        "My name is **Cameron Olsen** and I am a _Senior_. Something interesting about me is that I'm on the Farmingdale ~~Sports~~ Esports team. "
      ]
    }
  ]
}