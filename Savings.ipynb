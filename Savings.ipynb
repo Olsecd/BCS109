{
  "nbformat": 4,
  "nbformat_minor": 0,
  "metadata": {
    "colab": {
      "name": "Savings.ipynb",
      "provenance": [],
      "collapsed_sections": []
    },
    "kernelspec": {
      "name": "python3",
      "display_name": "Python 3"
    }
  },
  "cells": [
    {
      "cell_type": "markdown",
      "metadata": {
        "id": "hPo6TGtk14ut",
        "colab_type": "text"
      },
      "source": [
        "##Calculation of initial investment \n",
        "\n",
        "This program will calculate the initial investment you need to make to earn a certain future value given an interest rate, time, and future value."
      ]
    },
    {
      "cell_type": "code",
      "metadata": {
        "id": "KKZBSbE4yzdL",
        "colab_type": "code",
        "colab": {
          "base_uri": "https://localhost:8080/",
          "height": 136
        },
        "outputId": "3dea84c7-6b5e-429e-f9f5-e47c940d3057"
      },
      "source": [
        "#r = interest rate\n",
        "r = float(input(\"What is the interest rate?\\n\"))\n",
        "#i = future value\n",
        "i = float(input(\"What is your future value\\n\"))\n",
        "#t = time\n",
        "t= float(input(\"What is the time on the investment\\n\"))\n",
        "\n",
        "#find the initial investment using the formula\n",
        "output = i / (1 + r)**t\n",
        "#print out the initial investment \n",
        "print(\"The present value is: \" , output)"
      ],
      "execution_count": null,
      "outputs": [
        {
          "output_type": "stream",
          "text": [
            "What is the interest rate?\n",
            ".1\n",
            "What is your future value\n",
            "1500\n",
            "What is the time on the investment\n",
            "5\n",
            "The present value is:  931.3819845887324\n"
          ],
          "name": "stdout"
        }
      ]
    },
    {
      "cell_type": "markdown",
      "metadata": {
        "id": "9t2GJsxm3rbw",
        "colab_type": "text"
      },
      "source": [
        "##Calculation of future value\n",
        "\n",
        "This program will calculate the future value you will get given an interest rate, time, and initial investment value."
      ]
    },
    {
      "cell_type": "code",
      "metadata": {
        "id": "KIwFl8OU3qNG",
        "colab_type": "code",
        "colab": {}
      },
      "source": [
        "#r = interest rate\n",
        "r = float(input(\"What is the interest rate?\\n\"))\n",
        "#i = initial investment\n",
        "i = float(input(\"What is your future value\\n\"))\n",
        "#t = time\n",
        "t= float(input(\"What is the time on the investment\\n\"))\n",
        "\n",
        "#find the future value using the formula\n",
        "output = p*(1+r)**t\n",
        "#print out the future value of the investment\n",
        "print(\"The future value is: \" , output)"
      ],
      "execution_count": null,
      "outputs": []
    }
  ]
}