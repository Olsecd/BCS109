{
  "nbformat": 4,
  "nbformat_minor": 0,
  "metadata": {
    "colab": {
      "name": "Savings.ipynb",
      "provenance": [],
      "collapsed_sections": []
    },
    "kernelspec": {
      "name": "python3",
      "display_name": "Python 3"
    }
  },
  "cells": [
    {
      "cell_type": "markdown",
      "metadata": {
        "id": "hPo6TGtk14ut",
        "colab_type": "text"
      },
      "source": [
        "##Calculation of initial investment \n",
        "\n",
        "This program will calculate the initial investment you need to make to earn a certain future value given an interest rate, time, and future value."
      ]
    },
    {
      "cell_type": "code",
      "metadata": {
        "id": "KKZBSbE4yzdL",
        "colab_type": "code",
        "colab": {
          "base_uri": "https://localhost:8080/",
          "height": 136
        },
        "outputId": "2872c8bf-7027-44f3-bffc-ac3802c94abe"
      },
      "source": [
        "#r = interest rate\n",
        "r = float(input(\"What is the interest rate?\\n\"))\n",
        "#i = future value\n",
        "i = float(input(\"What is your future value\\n\"))\n",
        "#t = time\n",
        "t= float(input(\"What is the time on the investment\\n\"))\n",
        "\n",
        "#find the initial investment using the formula\n",
        "output = i / (1 + r)**t\n",
        "#print out the initial investment \n",
        "print(\"The present value is: {:.2f}\".format(output))"
      ],
      "execution_count": 12,
      "outputs": [
        {
          "output_type": "stream",
          "text": [
            "What is the interest rate?\n",
            ".1\n",
            "What is your future value\n",
            "1500\n",
            "What is the time on the investment\n",
            "5\n",
            "The present value is: 931.38\n"
          ],
          "name": "stdout"
        }
      ]
    },
    {
      "cell_type": "markdown",
      "metadata": {
        "id": "9t2GJsxm3rbw",
        "colab_type": "text"
      },
      "source": [
        "##Calculation of future value\n",
        "\n",
        "This program will calculate the future value you will get given an interest rate, time, and initial investment value."
      ]
    },
    {
      "cell_type": "code",
      "metadata": {
        "id": "KIwFl8OU3qNG",
        "colab_type": "code",
        "colab": {
          "base_uri": "https://localhost:8080/",
          "height": 136
        },
        "outputId": "e96240b3-1a42-41cd-ca32-2ad33c685386"
      },
      "source": [
        "#r = interest rate\n",
        "r = float(input(\"What is the interest rate?\\n\"))\n",
        "#i = initial investment\n",
        "i = float(input(\"What is your initial investment\\n\"))\n",
        "#t = time\n",
        "t= float(input(\"What is the time on the investment\\n\"))\n",
        "\n",
        "#find the future value using the formula\n",
        "output = i*(1+r)**t\n",
        "#print out the future value of the investment\n",
        "print(\"The future value is: {:.2f}\".format(output))"
      ],
      "execution_count": 13,
      "outputs": [
        {
          "output_type": "stream",
          "text": [
            "What is the interest rate?\n",
            ".1\n",
            "What is your initial investment\n",
            "931.38\n",
            "What is the time on the investment\n",
            "5\n",
            "The future value is: 1500.00\n"
          ],
          "name": "stdout"
        }
      ]
    }
  ]
}