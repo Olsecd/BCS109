{
  "nbformat": 4,
  "nbformat_minor": 0,
  "metadata": {
    "colab": {
      "name": "HW5.ipynb",
      "provenance": [],
      "collapsed_sections": []
    },
    "kernelspec": {
      "name": "python3",
      "display_name": "Python 3"
    }
  },
  "cells": [
    {
      "cell_type": "markdown",
      "metadata": {
        "id": "qm7oXEhZRwo2"
      },
      "source": [
        "##Name and age check\n",
        "This program checks if the user is inputting correct values for their name and age"
      ]
    },
    {
      "cell_type": "code",
      "metadata": {
        "id": "C4VwuG3AQUMT",
        "outputId": "981977e4-9c9f-4f13-d9b1-bb70370bb0c6",
        "colab": {
          "base_uri": "https://localhost:8080/",
          "height": 68
        }
      },
      "source": [
        "#declaring variables\n",
        "age = -1\n",
        "name = ''\n",
        "chances = 0\n",
        "correct = True\n",
        "\n",
        "#while loop to make sure that the name and age are valid\n",
        "while name.isalpha() == False or age < 1 or age > 100:\n",
        "  #if the chances get to 3 or more stop allowing guesses\n",
        "  if chances >= 3:\n",
        "    #if the user inputs invalid information tell them it is unacceptable\n",
        "    print('Unacceptable')\n",
        "    correct = False\n",
        "    break\n",
        "  chances = chances + 1\n",
        "  #allowing user input\n",
        "  name = input('Please give me your name. ')\n",
        "  age = int(input('Please give me your age. '))\n",
        "#if the user inputs valid information tell them it is acceptable\n",
        "if correct == True:\n",
        "  print('Acceptable')\n"
      ],
      "execution_count": 15,
      "outputs": [
        {
          "output_type": "stream",
          "text": [
            "Please give me your name. cam\n",
            "Please give me your age. 2\n",
            "Acceptable\n"
          ],
          "name": "stdout"
        }
      ]
    },
    {
      "cell_type": "markdown",
      "metadata": {
        "id": "65PIYrb9MBLy"
      },
      "source": [
        "##Password check\n",
        "This program will ask user to create a password that is 8 or more characters, contains a number, an uppercase letter, a lowercase letter, and a special character and will tell the user if they didn't follow the rules of the password"
      ]
    },
    {
      "cell_type": "code",
      "metadata": {
        "id": "Ss7cmOrfMaIv",
        "outputId": "1db1d7b6-a91c-47a7-9f0b-8904acc1be55",
        "colab": {
          "base_uri": "https://localhost:8080/",
          "height": 153
        }
      },
      "source": [
        "#declaring variables\n",
        "Password = ''\n",
        "correct = False\n",
        "\n",
        "#while the password is not following the rules continue this loop\n",
        "while (correct != True):\n",
        "  #ask the user for a password\n",
        "  Password = input('Please input a password: ')\n",
        "\n",
        "  #check to see if the length is valid\n",
        "  if len(Password) < 8:\n",
        "    #output what is wrong with the password\n",
        "    print(\"Password should be 8 or more letters.\")\n",
        "    #set the value of correct to false so the loop repeats\n",
        "    correct = False\n",
        "\n",
        "  #check to see if there is a number in the password\n",
        "  elif any(a.isnumeric() for a in Password) == False:\n",
        "    print(\"Password needs at least 1 number\")\n",
        "    correct = False\n",
        "\n",
        "  #check to see if there is a lowercase in the password\n",
        "  elif any(b.islower() for b in Password) == False:\n",
        "    print(\"Password needs at least 1 lowercase letter\")\n",
        "    correct = False\n",
        "\n",
        "  #check to see if there is a uppercase in the password\n",
        "  elif any(c.isupper() for c in Password) == False:\n",
        "    print(\"Password needs at least 1 uppercase letter\")\n",
        "    correct = False\n",
        "\n",
        "  #check to see if there is a special character in the password\n",
        "  elif any(not d.isalnum() for d in Password) == False:\n",
        "    print(\"Password needs at least 1 special character\")\n",
        "    correct = False\n",
        "\n",
        "  #if everything is valid tell the user their password is valid\n",
        "  else:\n",
        "    correct = True\n",
        "    print(\"Valid Password\")\n",
        "\n"
      ],
      "execution_count": 33,
      "outputs": [
        {
          "output_type": "stream",
          "text": [
            "Please input a password: ada\n",
            "Password should be 8 or more letters.\n",
            "Please input a password: adadadadadadada\n",
            "Password needs at least 1 number\n",
            "Please input a password: adadadadadadada1\n",
            "Password needs at least 1 uppercase letter\n",
            "Please input a password: adadadadadad!A1\n",
            "Valid Password\n"
          ],
          "name": "stdout"
        }
      ]
    },
    {
      "cell_type": "markdown",
      "metadata": {
        "id": "ceN19u3ykfIC"
      },
      "source": [
        "##For loop\n",
        "This program will use a for loop to output every number that has a 3 in it between 1 and 1000"
      ]
    },
    {
      "cell_type": "code",
      "metadata": {
        "id": "TuhpGUxckzGg",
        "outputId": "ab2ac14c-32d9-49b6-b5d6-e794cb234e0e",
        "colab": {
          "base_uri": "https://localhost:8080/",
          "height": 54
        }
      },
      "source": [
        "#for loop from the range 1 to 1000\n",
        "for i in range (1, 1000):\n",
        "  #if the number contains a 3 output the number\n",
        "  if '3' in str(i):\n",
        "    print(i,end=\"|\")"
      ],
      "execution_count": 45,
      "outputs": [
        {
          "output_type": "stream",
          "text": [
            "3|13|23|30|31|32|33|34|35|36|37|38|39|43|53|63|73|83|93|103|113|123|130|131|132|133|134|135|136|137|138|139|143|153|163|173|183|193|203|213|223|230|231|232|233|234|235|236|237|238|239|243|253|263|273|283|293|300|301|302|303|304|305|306|307|308|309|310|311|312|313|314|315|316|317|318|319|320|321|322|323|324|325|326|327|328|329|330|331|332|333|334|335|336|337|338|339|340|341|342|343|344|345|346|347|348|349|350|351|352|353|354|355|356|357|358|359|360|361|362|363|364|365|366|367|368|369|370|371|372|373|374|375|376|377|378|379|380|381|382|383|384|385|386|387|388|389|390|391|392|393|394|395|396|397|398|399|403|413|423|430|431|432|433|434|435|436|437|438|439|443|453|463|473|483|493|503|513|523|530|531|532|533|534|535|536|537|538|539|543|553|563|573|583|593|603|613|623|630|631|632|633|634|635|636|637|638|639|643|653|663|673|683|693|703|713|723|730|731|732|733|734|735|736|737|738|739|743|753|763|773|783|793|803|813|823|830|831|832|833|834|835|836|837|838|839|843|853|863|873|883|893|903|913|923|930|931|932|933|934|935|936|937|938|939|943|953|963|973|983|993|"
          ],
          "name": "stdout"
        }
      ]
    },
    {
      "cell_type": "markdown",
      "metadata": {
        "id": "pVhYJdr7qbMe"
      },
      "source": [
        "##While loop \n",
        "This program will output all the even numbers between 1 and 100 backwards"
      ]
    },
    {
      "cell_type": "code",
      "metadata": {
        "id": "aPNopUKbrDiQ",
        "outputId": "576529f1-bb89-4fcf-c2c2-9acf68a2b6a9",
        "colab": {
          "base_uri": "https://localhost:8080/",
          "height": 34
        }
      },
      "source": [
        "#start i at 100\n",
        "i = 100\n",
        "#while is greater than or equal to 1\n",
        "while i >= 1:\n",
        "  #if i is even print it out\n",
        "  if i % 2 == 0:\n",
        "    print(i,end=\"|\")\n",
        "  #decrease i by 1\n",
        "  i = i - 1"
      ],
      "execution_count": 47,
      "outputs": [
        {
          "output_type": "stream",
          "text": [
            "100|98|96|94|92|90|88|86|84|82|80|78|76|74|72|70|68|66|64|62|60|58|56|54|52|50|48|46|44|42|40|38|36|34|32|30|28|26|24|22|20|18|16|14|12|10|8|6|4|2|"
          ],
          "name": "stdout"
        }
      ]
    },
    {
      "cell_type": "markdown",
      "metadata": {
        "id": "0eFAfxNZvKuH"
      },
      "source": [
        "##Prime number loop\n",
        "This program will use a loop to output all the prime numbers between 100 and 1000 \n"
      ]
    },
    {
      "cell_type": "code",
      "metadata": {
        "id": "02g6OTvfvZnS",
        "outputId": "f43400bf-57f9-4e16-b77b-36887c3d458a",
        "colab": {
          "base_uri": "https://localhost:8080/",
          "height": 54
        }
      },
      "source": [
        "#for numbers between 100 and 1000\n",
        "for num in range(100, 1000):\n",
        "   # all prime numbers are greater than 1\n",
        "   if num > 1:\n",
        "     #for the numbers in the range check if theyre prime or not\n",
        "       for i in range(2, num):\n",
        "         #if the number isnt prime break out and restart\n",
        "           if (num % i) == 0:\n",
        "               break\n",
        "      # else print out the number because it is prime\n",
        "       else:\n",
        "           print(num,end=\"|\")"
      ],
      "execution_count": 56,
      "outputs": [
        {
          "output_type": "stream",
          "text": [
            "101|103|107|109|113|127|131|137|139|149|151|157|163|167|173|179|181|191|193|197|199|211|223|227|229|233|239|241|251|257|263|269|271|277|281|283|293|307|311|313|317|331|337|347|349|353|359|367|373|379|383|389|397|401|409|419|421|431|433|439|443|449|457|461|463|467|479|487|491|499|503|509|521|523|541|547|557|563|569|571|577|587|593|599|601|607|613|617|619|631|641|643|647|653|659|661|673|677|683|691|701|709|719|727|733|739|743|751|757|761|769|773|787|797|809|811|821|823|827|829|839|853|857|859|863|877|881|883|887|907|911|919|929|937|941|947|953|967|971|977|983|991|997|"
          ],
          "name": "stdout"
        }
      ]
    }
  ]
}