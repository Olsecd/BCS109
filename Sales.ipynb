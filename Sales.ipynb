{
  "nbformat": 4,
  "nbformat_minor": 0,
  "metadata": {
    "colab": {
      "name": "Sales.ipynb",
      "provenance": [],
      "collapsed_sections": []
    },
    "kernelspec": {
      "name": "python3",
      "display_name": "Python 3"
    }
  },
  "cells": [
    {
      "cell_type": "markdown",
      "metadata": {
        "id": "hPo6TGtk14ut",
        "colab_type": "text"
      },
      "source": [
        "##Applying Discounts\n",
        "\n",
        "This program will apply discounts on the price depending on how many of the products are ordered."
      ]
    },
    {
      "cell_type": "code",
      "metadata": {
        "id": "KKZBSbE4yzdL",
        "colab_type": "code",
        "colab": {
          "base_uri": "https://localhost:8080/",
          "height": 102
        },
        "outputId": "a5645553-2ef0-4467-a671-0815cd67b392"
      },
      "source": [
        "#q = quantity of products being purchased\n",
        "q = int(input(\"What is the quantity of products being purchased?\\n\"))\n",
        "#d = discount\n",
        "d = 0\n",
        "\n",
        "#if, elif, and else statements to find out how much of a discount needs to be applied\n",
        "if q >= 10 and q < 20:\n",
        "  d = 10\n",
        "elif q >= 20 and q < 50:\n",
        "  d = 20\n",
        "elif q >= 50 and q <100:\n",
        "  d = 30\n",
        "elif q >= 100:\n",
        "  d = 40\n",
        "else:\n",
        "  d = 0\n",
        "\n",
        "#making a variable of the cost before the discount is applied\n",
        "fullprice = 99 * q\n",
        "#calculate the price after the discount is applied\n",
        "output = fullprice - (fullprice * (d/100))\n",
        "#print the discount to the user\n",
        "print(\"The discount is \" + str(d) + \"%\\n\")\n",
        "#print the price after the discount to the user\n",
        "print(\"The price after the discount is: {:.2f}\".format(output))"
      ],
      "execution_count": 16,
      "outputs": [
        {
          "output_type": "stream",
          "text": [
            "What is the quantity of products being purchased?\n",
            "200\n",
            "The discount is 40%\n",
            "\n",
            "The price after the discount is: 11880.00\n"
          ],
          "name": "stdout"
        }
      ]
    },
    {
      "cell_type": "markdown",
      "metadata": {
        "id": "9t2GJsxm3rbw",
        "colab_type": "text"
      },
      "source": [
        "##Shipping rates\n",
        "\n",
        "This program will find out the shipping rate depending on the weight of a given package"
      ]
    },
    {
      "cell_type": "code",
      "metadata": {
        "id": "KIwFl8OU3qNG",
        "colab_type": "code",
        "colab": {
          "base_uri": "https://localhost:8080/",
          "height": 68
        },
        "outputId": "0f82c41c-22d9-43f5-c80a-0d662dc22d7f"
      },
      "source": [
        "#w = weight\n",
        "w = float(input(\"What is the weight of the package\\n\"))\n",
        "#r = rate\n",
        "r = 0.0\n",
        "#if, elif, and else statements to find out what the shipping rate is\n",
        "if w < 2:\n",
        "  r = 1.50\n",
        "elif w < 6:\n",
        "  r = 3.00\n",
        "elif w < 10:\n",
        "  r = 4.00\n",
        "else:\n",
        "  r = 4.75\n",
        "\n",
        "#find the price of shipping\n",
        "output = r * w\n",
        "#print out the shipping price\n",
        "print(\"The shipping price is {:.2f}\".format(output))"
      ],
      "execution_count": 20,
      "outputs": [
        {
          "output_type": "stream",
          "text": [
            "What is the weight of the package\n",
            "2\n",
            "The shipping price is 6.00\n"
          ],
          "name": "stdout"
        }
      ]
    }
  ]
}